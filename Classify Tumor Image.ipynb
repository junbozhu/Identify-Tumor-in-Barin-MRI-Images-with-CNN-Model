{
 "cells": [
  {
   "cell_type": "markdown",
   "id": "90545a38",
   "metadata": {},
   "source": [
    "### Tumor Classification\n",
    "\n",
    "- follow https://colab.research.google.com/drive/1CKsJqNFpT8qfedfzqjq_fR7rmUjU6LXa#scrollTo=5I7vllBbzFbA\n",
    "- same as https://github.com/YaminArefeen/pytorch_tutorial_6.862\n",
    "- Data from Kaggle [link](https://www.kaggle.com/navoneel/brain-mri-images-for-brain-tumor-detection)"
   ]
  },
  {
   "cell_type": "code",
   "execution_count": 1,
   "id": "b6398fa3",
   "metadata": {},
   "outputs": [],
   "source": [
    "import torch\n",
    "import torchvision"
   ]
  },
  {
   "cell_type": "code",
   "execution_count": 2,
   "id": "d2f64211",
   "metadata": {},
   "outputs": [],
   "source": [
    "import os\n",
    "import numpy as np\n",
    "from PIL import Image\n",
    "import matplotlib.pyplot as pyplot\n",
    "%matplotlib inline"
   ]
  },
  {
   "cell_type": "code",
   "execution_count": 5,
   "id": "d8e30e82",
   "metadata": {},
   "outputs": [
    {
     "name": "stdout",
     "output_type": "stream",
     "text": [
      "zsh:1: command not found: wget\n",
      "unzip:  cannot find or open data.zip, data.zip.zip or data.zip.ZIP.\n"
     ]
    }
   ],
   "source": [
    "# Downloading the Data\n",
    "# !wget -O data.zip \"https://www.dropbox.com/sh/5x3odwr1azs6fe6/AACJugYtmbOuFr763XUqy8ZWa?dl=1\"\n",
    "# !unzip data.zip"
   ]
  },
  {
   "cell_type": "markdown",
   "id": "88953eb5",
   "metadata": {},
   "source": [
    "### Create custom dataset Class"
   ]
  },
  {
   "cell_type": "code",
   "execution_count": 13,
   "id": "0a202e9c",
   "metadata": {},
   "outputs": [],
   "source": [
    "#Quick helper function which will reshape all of our images to the same size\n",
    "def scale(im, nR, nC):\n",
    "    nR0 = len(im)     # source number of rows \n",
    "    nC0 = len(im[0])  # source number of columns \n",
    "    return [[ im[int(nR0 * r / nR)][int(nC0 * c / nC)]  \n",
    "             for c in range(nC)] for r in range(nR)]\n",
    "\n",
    "class TumorDataset(torch.utils.data.Dataset):\n",
    "    def __init__(self, root, image_size = (128, 128)):\n",
    "        # Whenever we initalize a dataset with our \"TumorDataset\" class, the code in the initialize function \n",
    "        # will be called. In this code, we specify the root directory of the current dataset we want to work with, \n",
    "        # the list of classes in that root directory (by listing the folder names), and the desired image size\n",
    "        self.root         = root                      # The root directory of the current training (or validation or testing) dataset that we want to work with\n",
    "        self.class_names  = os.listdir(self.root)     # Lists the name of folders in our root directory, which in our case, also serves as the class names\n",
    "        self.image_size   = image_size                # Image size which will be used      \n",
    "        \n",
    "    def __len__(self):\n",
    "        dataset_size = 0   #Variable which we will use to keep track of dataset length\n",
    "        \n",
    "        for cur_class in self.class_names:\n",
    "            #Recall, that each class relates to a folder which contains our images.  In this for loop, we compute the number of entries in each folder (which corresponds to \n",
    "            #the number of samples in each class) and then add it to our total running count of the dataset size.  \n",
    "            dataset_size += len(os.listdir(self.root + cur_class + '/'))\n",
    "            \n",
    "        return dataset_size\n",
    "    \n",
    "    def __getitem__(self,index):\n",
    "        if(index >= len(self)):\n",
    "            print('Index out of bounds')\n",
    "            return \n",
    "          \n",
    "        cur_dataset_size = 0\n",
    "        class_label      = 0\n",
    "        image_index      = index\n",
    "        \n",
    "        for cur_class in self.class_names:\n",
    "            #Loop through each of our classes\n",
    "            \n",
    "            cur_path       = self.root + cur_class + '/'\n",
    "            files_in_class = os.listdir(cur_path)\n",
    "            #Generate a list of .JPG files which correspond to our samples for this particular class\n",
    "                                       \n",
    "            cur_dataset_size += len(files_in_class)\n",
    "            #We assume that our classes are ordered back to back for indexing.  So let's say (for example), that our first class 'no', \n",
    "            #has 10 samples, our second class 'yes' has 10 samples, and 'no' comes before 'yes' in ordering.  Then dataset[9] will index the \n",
    "            #10th image in the 'no' class, while dataset[10] will index the first image in the 'yes' class.  (recall, python zero indexes).\n",
    "            #Thus, by keeping track of how much of the total dataset we've traversed, with cur_dataset_size, we can check to see whether index corresponds\n",
    "            #to the current class\n",
    "            \n",
    "            if(index < cur_dataset_size):\n",
    "                #If index is less than the current data set size, then we know that index should grab an element from this class        \n",
    "                \n",
    "                image_index = index - cur_dataset_size\n",
    "                #Find which element of this class our index corresponds too\n",
    "                \n",
    "                image = np.asarray(Image.open(cur_path + files_in_class[image_index]),dtype=np.double)\n",
    "                #Grab the image and convert it to a numpy array\n",
    "                \n",
    "                if len(image.shape) == 3:\n",
    "                    image = image[:,:,0]\n",
    "                #Take just the first channel for gray-scale\n",
    "                \n",
    "                image = np.expand_dims(scale(image,self.image_size[0],self.image_size[1]),axis = 0)\n",
    "                #Reshape the image to size 1 x 128 x 128\n",
    "                \n",
    "                return (image,class_label)\n",
    "                #Return the image and its associated label as a tuple\n",
    "            \n",
    "            class_label += 1\n",
    "    \n"
   ]
  },
  {
   "cell_type": "code",
   "execution_count": 14,
   "id": "c0f61254",
   "metadata": {},
   "outputs": [],
   "source": [
    "path_train_set   = 'brain_tumor_dataset/train/'     #Specify the path to the trainining root directory\n",
    "dataset_train    = TumorDataset(path_train_set)     #Create the dataset class using the path to the root directory for the training data as an input"
   ]
  },
  {
   "cell_type": "code",
   "execution_count": 15,
   "id": "13d7fdcb",
   "metadata": {},
   "outputs": [
    {
     "name": "stdout",
     "output_type": "stream",
     "text": [
      "Specified root directory for our dataset class:\n",
      "brain_tumor_dataset/train/\n",
      "\n",
      "List of class names:\n",
      "['no', 'yes']\n",
      "\n",
      "Hard-coded Image Size:\n",
      "(128, 128)\n",
      "\n",
      "Samples in the dataset: 222\n",
      "A Sample: (array([[[0., 0., 0., ..., 0., 0., 0.],\n",
      "        [0., 0., 0., ..., 0., 0., 0.],\n",
      "        [0., 0., 0., ..., 0., 0., 0.],\n",
      "        ...,\n",
      "        [0., 0., 0., ..., 0., 0., 0.],\n",
      "        [0., 0., 0., ..., 0., 0., 0.],\n",
      "        [0., 0., 0., ..., 0., 0., 0.]]]), 0)\n"
     ]
    }
   ],
   "source": [
    "# quick checks of dataset\n",
    "\n",
    "print('Specified root directory for our dataset class:')\n",
    "print(dataset_train.root)\n",
    "print('')\n",
    "\n",
    "print('List of class names:' )\n",
    "print(dataset_train.class_names)\n",
    "print('')\n",
    "\n",
    "print('Hard-coded Image Size:' )\n",
    "print(dataset_train.image_size)\n",
    "print('')\n",
    "\n",
    "print(\"Samples in the dataset: %d\" % len(dataset_train))\n",
    "print(\"A Sample: {}\".format(dataset_train[0]))"
   ]
  },
  {
   "cell_type": "code",
   "execution_count": 16,
   "id": "da24863c",
   "metadata": {},
   "outputs": [
    {
     "name": "stdout",
     "output_type": "stream",
     "text": [
      "Tumor Example\n",
      " image:\n"
     ]
    },
    {
     "data": {
      "image/png": "[encoded data removed]",
      "text/plain": [
       "<Figure size 432x288 with 1 Axes>"
      ]
     },
     "metadata": {
      "needs_background": "light"
     },
     "output_type": "display_data"
    },
    {
     "name": "stdout",
     "output_type": "stream",
     "text": [
      " label: 0\n",
      "Non-Tumor Example\n",
      " image:\n"
     ]
    },
    {
     "data": {
      "image/png": "[encoded data removed]",
      "text/plain": [
       "<Figure size 432x288 with 1 Axes>"
      ]
     },
     "metadata": {
      "needs_background": "light"
     },
     "output_type": "display_data"
    },
    {
     "name": "stdout",
     "output_type": "stream",
     "text": [
      " label: 1\n"
     ]
    }
   ],
   "source": [
    "print('Tumor Example')\n",
    "index = 10\n",
    "print(' image:')\n",
    "pyplot.imshow(np.squeeze(dataset_train[index][0]),cmap = 'gray')\n",
    "pyplot.show()\n",
    "print(' label: %d' % dataset_train[index][1])\n",
    "\n",
    "print('Non-Tumor Example')\n",
    "index = 180\n",
    "print(' image:')\n",
    "pyplot.imshow(np.squeeze(dataset_train[index][0]),cmap = 'gray')\n",
    "pyplot.show()\n",
    "print(' label: %d' % dataset_train[index][1])"
   ]
  },
  {
   "cell_type": "markdown",
   "id": "14fcb125",
   "metadata": {},
   "source": [
    "### Incorporating Dataloaders in pytorch"
   ]
  },
  {
   "cell_type": "code",
   "execution_count": 17,
   "id": "882dc325",
   "metadata": {},
   "outputs": [],
   "source": [
    "batch_size = 4\n",
    "#Setting our desired batch size\n",
    "\n",
    "dataloader_training = torch.utils.data.DataLoader(dataset_train,batch_size = batch_size,shuffle=True)\n",
    "#Initializing our dataloader for the training dataset.  By setting the shuffle flag to True, \n",
    "#the dataloader will loop through the entire dataset randomly"
   ]
  },
  {
   "cell_type": "code",
   "execution_count": 18,
   "id": "e9fc3d46",
   "metadata": {},
   "outputs": [
    {
     "name": "stdout",
     "output_type": "stream",
     "text": [
      "Batch 1\n",
      "Batch Dimensions:    torch.Size([4, 1, 128, 128])\n",
      "Batch Labels:        tensor([0, 1, 0, 0])\n",
      "Batch 2\n",
      "Batch Dimensions:    torch.Size([4, 1, 128, 128])\n",
      "Batch Labels:        tensor([1, 1, 0, 1])\n",
      "Batch 3\n",
      "Batch Dimensions:    torch.Size([4, 1, 128, 128])\n",
      "Batch Labels:        tensor([1, 1, 1, 1])\n",
      "Batch 4\n",
      "Batch Dimensions:    torch.Size([4, 1, 128, 128])\n",
      "Batch Labels:        tensor([1, 1, 1, 1])\n",
      "Batch 5\n",
      "Batch Dimensions:    torch.Size([4, 1, 128, 128])\n",
      "Batch Labels:        tensor([0, 1, 0, 0])\n",
      "Batch 6\n",
      "Batch Dimensions:    torch.Size([4, 1, 128, 128])\n",
      "Batch Labels:        tensor([1, 1, 0, 1])\n",
      "Batch 7\n",
      "Batch Dimensions:    torch.Size([4, 1, 128, 128])\n",
      "Batch Labels:        tensor([0, 1, 1, 1])\n",
      "Batch 8\n",
      "Batch Dimensions:    torch.Size([4, 1, 128, 128])\n",
      "Batch Labels:        tensor([0, 1, 1, 1])\n",
      "Batch 9\n",
      "Batch Dimensions:    torch.Size([4, 1, 128, 128])\n",
      "Batch Labels:        tensor([1, 1, 1, 1])\n",
      "Batch 10\n",
      "Batch Dimensions:    torch.Size([4, 1, 128, 128])\n",
      "Batch Labels:        tensor([1, 0, 1, 1])\n",
      "Batch 11\n",
      "Batch Dimensions:    torch.Size([4, 1, 128, 128])\n",
      "Batch Labels:        tensor([1, 1, 1, 1])\n",
      "Batch 12\n",
      "Batch Dimensions:    torch.Size([4, 1, 128, 128])\n",
      "Batch Labels:        tensor([1, 1, 0, 0])\n",
      "Batch 13\n",
      "Batch Dimensions:    torch.Size([4, 1, 128, 128])\n",
      "Batch Labels:        tensor([1, 1, 1, 1])\n",
      "Batch 14\n",
      "Batch Dimensions:    torch.Size([4, 1, 128, 128])\n",
      "Batch Labels:        tensor([1, 1, 0, 1])\n",
      "Batch 15\n",
      "Batch Dimensions:    torch.Size([4, 1, 128, 128])\n",
      "Batch Labels:        tensor([1, 1, 1, 1])\n",
      "Batch 16\n",
      "Batch Dimensions:    torch.Size([4, 1, 128, 128])\n",
      "Batch Labels:        tensor([0, 1, 1, 1])\n",
      "Batch 17\n",
      "Batch Dimensions:    torch.Size([4, 1, 128, 128])\n",
      "Batch Labels:        tensor([0, 1, 0, 1])\n",
      "Batch 18\n",
      "Batch Dimensions:    torch.Size([4, 1, 128, 128])\n",
      "Batch Labels:        tensor([1, 1, 1, 0])\n",
      "Batch 19\n",
      "Batch Dimensions:    torch.Size([4, 1, 128, 128])\n",
      "Batch Labels:        tensor([0, 1, 0, 1])\n",
      "Batch 20\n",
      "Batch Dimensions:    torch.Size([4, 1, 128, 128])\n",
      "Batch Labels:        tensor([0, 0, 1, 1])\n",
      "Batch 21\n",
      "Batch Dimensions:    torch.Size([4, 1, 128, 128])\n",
      "Batch Labels:        tensor([1, 1, 0, 1])\n",
      "Batch 22\n",
      "Batch Dimensions:    torch.Size([4, 1, 128, 128])\n",
      "Batch Labels:        tensor([0, 1, 1, 0])\n",
      "Batch 23\n",
      "Batch Dimensions:    torch.Size([4, 1, 128, 128])\n",
      "Batch Labels:        tensor([1, 1, 0, 1])\n",
      "Batch 24\n",
      "Batch Dimensions:    torch.Size([4, 1, 128, 128])\n",
      "Batch Labels:        tensor([0, 0, 1, 0])\n",
      "Batch 25\n",
      "Batch Dimensions:    torch.Size([4, 1, 128, 128])\n",
      "Batch Labels:        tensor([1, 0, 1, 1])\n",
      "Batch 26\n",
      "Batch Dimensions:    torch.Size([4, 1, 128, 128])\n",
      "Batch Labels:        tensor([1, 0, 0, 1])\n",
      "Batch 27\n",
      "Batch Dimensions:    torch.Size([4, 1, 128, 128])\n",
      "Batch Labels:        tensor([1, 0, 1, 1])\n",
      "Batch 28\n",
      "Batch Dimensions:    torch.Size([4, 1, 128, 128])\n",
      "Batch Labels:        tensor([1, 0, 1, 0])\n",
      "Batch 29\n",
      "Batch Dimensions:    torch.Size([4, 1, 128, 128])\n",
      "Batch Labels:        tensor([1, 1, 0, 1])\n",
      "Batch 30\n",
      "Batch Dimensions:    torch.Size([4, 1, 128, 128])\n",
      "Batch Labels:        tensor([0, 1, 1, 1])\n",
      "Batch 31\n",
      "Batch Dimensions:    torch.Size([4, 1, 128, 128])\n",
      "Batch Labels:        tensor([1, 1, 1, 0])\n",
      "Batch 32\n",
      "Batch Dimensions:    torch.Size([4, 1, 128, 128])\n",
      "Batch Labels:        tensor([1, 1, 1, 1])\n",
      "Batch 33\n",
      "Batch Dimensions:    torch.Size([4, 1, 128, 128])\n",
      "Batch Labels:        tensor([1, 1, 1, 1])\n",
      "Batch 34\n",
      "Batch Dimensions:    torch.Size([4, 1, 128, 128])\n",
      "Batch Labels:        tensor([1, 0, 0, 0])\n",
      "Batch 35\n",
      "Batch Dimensions:    torch.Size([4, 1, 128, 128])\n",
      "Batch Labels:        tensor([0, 1, 0, 0])\n",
      "Batch 36\n",
      "Batch Dimensions:    torch.Size([4, 1, 128, 128])\n",
      "Batch Labels:        tensor([0, 1, 0, 0])\n",
      "Batch 37\n",
      "Batch Dimensions:    torch.Size([4, 1, 128, 128])\n",
      "Batch Labels:        tensor([0, 1, 0, 1])\n",
      "Batch 38\n",
      "Batch Dimensions:    torch.Size([4, 1, 128, 128])\n",
      "Batch Labels:        tensor([1, 0, 0, 0])\n",
      "Batch 39\n",
      "Batch Dimensions:    torch.Size([4, 1, 128, 128])\n",
      "Batch Labels:        tensor([1, 0, 1, 1])\n",
      "Batch 40\n",
      "Batch Dimensions:    torch.Size([4, 1, 128, 128])\n",
      "Batch Labels:        tensor([1, 1, 1, 1])\n",
      "Batch 41\n",
      "Batch Dimensions:    torch.Size([4, 1, 128, 128])\n",
      "Batch Labels:        tensor([0, 1, 0, 1])\n",
      "Batch 42\n",
      "Batch Dimensions:    torch.Size([4, 1, 128, 128])\n",
      "Batch Labels:        tensor([0, 0, 1, 1])\n",
      "Batch 43\n",
      "Batch Dimensions:    torch.Size([4, 1, 128, 128])\n",
      "Batch Labels:        tensor([1, 0, 1, 0])\n",
      "Batch 44\n",
      "Batch Dimensions:    torch.Size([4, 1, 128, 128])\n",
      "Batch Labels:        tensor([1, 1, 1, 1])\n",
      "Batch 45\n",
      "Batch Dimensions:    torch.Size([4, 1, 128, 128])\n",
      "Batch Labels:        tensor([1, 1, 0, 1])\n",
      "Batch 46\n",
      "Batch Dimensions:    torch.Size([4, 1, 128, 128])\n",
      "Batch Labels:        tensor([0, 0, 1, 0])\n",
      "Batch 47\n",
      "Batch Dimensions:    torch.Size([4, 1, 128, 128])\n",
      "Batch Labels:        tensor([0, 1, 0, 0])\n",
      "Batch 48\n",
      "Batch Dimensions:    torch.Size([4, 1, 128, 128])\n",
      "Batch Labels:        tensor([0, 0, 0, 0])\n",
      "Batch 49\n",
      "Batch Dimensions:    torch.Size([4, 1, 128, 128])\n",
      "Batch Labels:        tensor([0, 0, 0, 1])\n",
      "Batch 50\n",
      "Batch Dimensions:    torch.Size([4, 1, 128, 128])\n",
      "Batch Labels:        tensor([0, 1, 1, 1])\n",
      "Batch 51\n",
      "Batch Dimensions:    torch.Size([4, 1, 128, 128])\n",
      "Batch Labels:        tensor([0, 0, 1, 1])\n",
      "Batch 52\n",
      "Batch Dimensions:    torch.Size([4, 1, 128, 128])\n",
      "Batch Labels:        tensor([1, 1, 1, 0])\n",
      "Batch 53\n",
      "Batch Dimensions:    torch.Size([4, 1, 128, 128])\n",
      "Batch Labels:        tensor([1, 1, 1, 1])\n",
      "Batch 54\n",
      "Batch Dimensions:    torch.Size([4, 1, 128, 128])\n",
      "Batch Labels:        tensor([1, 0, 0, 0])\n",
      "Batch 55\n",
      "Batch Dimensions:    torch.Size([4, 1, 128, 128])\n",
      "Batch Labels:        tensor([0, 1, 1, 1])\n",
      "Batch 56\n",
      "Batch Dimensions:    torch.Size([2, 1, 128, 128])\n",
      "Batch Labels:        tensor([1, 0])\n"
     ]
    }
   ],
   "source": [
    "# loop through the dataset with the dataloader\n",
    "for i_batch, sampled_batch in enumerate(dataloader_training):\n",
    "    cur_images = sampled_batch[0] #Grab the images from this batch\n",
    "    cur_labels = sampled_batch[1] #Grab the corresponding labels from this batch\n",
    "\n",
    "    print('Batch %d' % (i_batch + 1))\n",
    "    print('Batch Dimensions:    ', end = '')\n",
    "    print(cur_images.shape)\n",
    "    print('Batch Labels:        ', end = '')\n",
    "    print(cur_labels)\n",
    "\n",
    "# In our dataset class, we didn't manually convert our loaded images to PyTorch tensors nor did we add \n",
    "# any functionality to load the data by batches across the entire dataset. Dataloaders handle both these \n",
    "# issues for us."
   ]
  },
  {
   "cell_type": "markdown",
   "id": "621f5e57",
   "metadata": {},
   "source": [
    "### Creating the model"
   ]
  },
  {
   "cell_type": "code",
   "execution_count": 19,
   "id": "6f6c56fc",
   "metadata": {},
   "outputs": [],
   "source": [
    "class TumorClassificationModel(torch.nn.Module):\n",
    "    def __init__(self,kernel_size = 5):\n",
    "        super().__init__()\n",
    "        \n",
    "        self.maxpool    = torch.nn.MaxPool2d(2,2)\n",
    "            \n",
    "        self.convlayer1      = torch.nn.Conv2d(in_channels=1,out_channels=6,kernel_size=kernel_size)\n",
    "        self.convlayer2      = torch.nn.Conv2d(in_channels=6,out_channels=15,kernel_size=kernel_size)\n",
    "        \n",
    "        self.flatten = torch.nn.Flatten(start_dim = 1)\n",
    "\n",
    "        self.fully_connected1 = torch.nn.Linear(15 * 29 * 29, 120)\n",
    "        self.fully_connected2 = torch.nn.Linear(120,60)\n",
    "        self.fully_connected3 = torch.nn.Linear(60,1)\n",
    "\n",
    "    def forward(self, x):\n",
    "\n",
    "        print('Input shape: {}'.format(x.shape))\n",
    "        \n",
    "        x = self.maxpool(torch.nn.functional.relu(self.convlayer1(x)))\n",
    "        print('After conv + pool 1: {}'.format(x.shape))\n",
    "        \n",
    "        x = self.maxpool(torch.nn.functional.relu(self.convlayer2(x)))\n",
    "        print('After conv + pool 2: {}'.format(x.shape))\n",
    "        \n",
    "        x = self.flatten(x)\n",
    "        print('After reshaping for fully_connected layers: {}'.format(x.shape))\n",
    "        \n",
    "        x   = torch.nn.functional.relu(self.fully_connected1(x))\n",
    "        print('After fully_connected 1: {}'.format(x.shape))\n",
    "        \n",
    "        x   = torch.nn.functional.relu(self.fully_connected2(x))\n",
    "        print('After fully_connected 2: {}'.format(x.shape))\n",
    "        \n",
    "        out = torch.sigmoid(self.fully_connected3(x))\n",
    "        \n",
    "        return out"
   ]
  },
  {
   "cell_type": "code",
   "execution_count": 20,
   "id": "30cdd10f",
   "metadata": {},
   "outputs": [
    {
     "name": "stdout",
     "output_type": "stream",
     "text": [
      "Input shape: torch.Size([4, 1, 128, 128])\n",
      "After conv + pool 1: torch.Size([4, 6, 62, 62])\n",
      "After conv + pool 2: torch.Size([4, 15, 29, 29])\n",
      "After reshaping for fully_connected layers: torch.Size([4, 12615])\n",
      "After fully_connected 1: torch.Size([4, 120])\n",
      "After fully_connected 2: torch.Size([4, 60])\n",
      "Output Shape: torch.Size([4, 1])\n"
     ]
    }
   ],
   "source": [
    "# Run once to check dimensions\n",
    "\n",
    "test_model = TumorClassificationModel().double()\n",
    "#Initializing our model\n",
    "\n",
    "dataloader_iterator = iter(dataloader_training)\n",
    "test_input, _       = next(dataloader_iterator)\n",
    "#Grabbing a single batch\n",
    "\n",
    "print('Output Shape: {}'.format(test_model(test_input).shape))"
   ]
  },
  {
   "cell_type": "code",
   "execution_count": 21,
   "id": "28b685d8",
   "metadata": {},
   "outputs": [],
   "source": [
    "# redefine model w/o printing options\n",
    "# a consice version with fixed dimension\n",
    "\n",
    "class TumorClassificationModel(torch.nn.Module):\n",
    "    def __init__(self,kernel_size = 5):\n",
    "        super().__init__()\n",
    "        \n",
    "        self.maxpool    = torch.nn.MaxPool2d(2,2)\n",
    "            \n",
    "        self.convlayer1 = torch.nn.Conv2d(in_channels=1,out_channels=6,kernel_size=kernel_size)\n",
    "        self.convlayer2 = torch.nn.Conv2d(in_channels=6,out_channels=15,kernel_size=kernel_size)\n",
    "        \n",
    "        self.fully_connected1 = torch.nn.Linear(15 * 29 * 29, 120)\n",
    "        self.fully_connected2 = torch.nn.Linear(120,60)\n",
    "        self.fully_connected3 = torch.nn.Linear(60,1)\n",
    "        \n",
    "    def forward(self, x):\n",
    "\n",
    "        x = self.maxpool(torch.nn.functional.relu(self.convlayer1(x)))\n",
    "        x = self.maxpool(torch.nn.functional.relu(self.convlayer2(x)))\n",
    "        \n",
    "        x   = torch.nn.functional.relu(self.fully_connected1(x.view(-1,15*29*29)))\n",
    "        x   = torch.nn.functional.relu(self.fully_connected2(x))\n",
    "        out = torch.sigmoid(self.fully_connected3(x))\n",
    "        \n",
    "        return out"
   ]
  },
  {
   "cell_type": "markdown",
   "id": "3abc18d8",
   "metadata": {},
   "source": [
    "### Train the model"
   ]
  },
  {
   "cell_type": "code",
   "execution_count": 37,
   "id": "d95d0b27",
   "metadata": {},
   "outputs": [
    {
     "data": {
      "text/plain": [
       "TumorClassificationModel(\n",
       "  (maxpool): MaxPool2d(kernel_size=2, stride=2, padding=0, dilation=1, ceil_mode=False)\n",
       "  (convlayer1): Conv2d(1, 6, kernel_size=(5, 5), stride=(1, 1))\n",
       "  (convlayer2): Conv2d(6, 15, kernel_size=(5, 5), stride=(1, 1))\n",
       "  (fully_connected1): Linear(in_features=12615, out_features=120, bias=True)\n",
       "  (fully_connected2): Linear(in_features=120, out_features=60, bias=True)\n",
       "  (fully_connected3): Linear(in_features=60, out_features=1, bias=True)\n",
       ")"
      ]
     },
     "execution_count": 37,
     "metadata": {},
     "output_type": "execute_result"
    }
   ],
   "source": [
    "# General Parameters\n",
    "\n",
    "num_epochs     = 3           #Number of times we loop through the entire dataset\n",
    "learning_rate  = .00001      #Optimizer step size\n",
    "batch          = 10          #Batch-size when training\n",
    "\n",
    "USE_GPU_FLAG   = 0           #If we have a GPU\n",
    "    \n",
    "model = TumorClassificationModel().double()   #model we want to train\n",
    "\n",
    "if(USE_GPU_FLAG):\n",
    "    device = torch.device(\"cuda:0\" if torch.cuda.is_available() else \"cpu\")\n",
    "else:\n",
    "    device = torch.device(\"cpu\")\n",
    "    \n",
    "model.to(device)"
   ]
  },
  {
   "cell_type": "code",
   "execution_count": 38,
   "id": "52d910fe",
   "metadata": {},
   "outputs": [],
   "source": [
    "# Define loss and optimizer\n",
    "# we pick simple BCE loss (binary cross entropy, i.e. logistic log loss) and the ADAM optimizer\n",
    "loss_function  = torch.nn.BCELoss()\n",
    "optimizer      = torch.optim.Adam(model.parameters(), lr = learning_rate)\n",
    "\n",
    "# note multi-class use general cross entropy loss (https://towardsdatascience.com/cross-entropy-for-classification-d98e7f974451)"
   ]
  },
  {
   "cell_type": "code",
   "execution_count": 39,
   "id": "a445c6e0",
   "metadata": {},
   "outputs": [
    {
     "name": "stdout",
     "output_type": "stream",
     "text": [
      "~~~~~~~~~~~~~~~~~\n",
      "Starting Training\n",
      "~~~~~~~~~~~~~~~~~\n",
      "Epoch 1\n",
      "  training   loss: 31.16\n",
      "Epoch 2\n",
      "  training   loss: 21.20\n",
      "Epoch 3\n",
      "  training   loss: 16.43\n"
     ]
    }
   ],
   "source": [
    "training_loss   = np.zeros(num_epochs)\n",
    "\n",
    "print('~~~~~~~~~~~~~~~~~')\n",
    "print('Starting Training')\n",
    "print('~~~~~~~~~~~~~~~~~')\n",
    "\n",
    "for epoch in range(num_epochs):\n",
    "    print(\"Epoch %d\" % (epoch + 1))\n",
    "    \n",
    "    #Loop through the dataset in batches\n",
    "    for i_batch, sampled_batch in enumerate(dataloader_training):\n",
    "        cur_images = sampled_batch[0].to(device)\n",
    "        cur_labels = torch.unsqueeze(sampled_batch[1],1).double().to(device)\n",
    "        #Grab the current labels and images and send theem to the appropriate device\n",
    "        \n",
    "        optimizer.zero_grad()\n",
    "        #Since Pytorch accumulates gradients, best practice to zero all of the gradients currently tracked by the optimizer \n",
    "        #before performing the next parameter up-date\n",
    "        \n",
    "        outputs = model(cur_images)\n",
    "        #Compute the models estimated outputs given the inputs\n",
    "        \n",
    "        loss    = loss_function(outputs,cur_labels)\n",
    "        #Compute the loss of the outputs and the associated inputs\n",
    "        \n",
    "        loss.backward()\n",
    "        #Compute the gradients with backprop\n",
    "        \n",
    "        optimizer.step()\n",
    "        #Update our model parameters values \n",
    "        \n",
    "        training_loss[epoch] += loss.item()\n",
    "    \n",
    "    print(\"  training   loss: %.2f\" % (training_loss[epoch]))\n",
    "    #Printing training loss after each epoch"
   ]
  },
  {
   "cell_type": "markdown",
   "id": "85684748",
   "metadata": {},
   "source": [
    "### Computing validation and training accuracy"
   ]
  },
  {
   "cell_type": "code",
   "execution_count": 40,
   "id": "047001ae",
   "metadata": {},
   "outputs": [],
   "source": [
    "path_val_set        = 'brain_tumor_dataset/val/'\n",
    "dataset_validate    = TumorDataset(path_val_set) #Set up the validate\n",
    "dataloader_validate = torch.utils.data.DataLoader(dataset_validate, batch_size = batch)"
   ]
  },
  {
   "cell_type": "code",
   "execution_count": 41,
   "id": "9776277f",
   "metadata": {},
   "outputs": [],
   "source": [
    "accuracy_val = accuracy_train = 0\n",
    "TP_val = FP_val = TN_val = FN_val = 0\n",
    "TP_train = FP_train = TN_train = FN_train = 0\n",
    "\n",
    "for i_batch, sampled_batch in enumerate(dataloader_validate):\n",
    "    cur_images = sampled_batch[0].to(device)\n",
    "    cur_labels = torch.unsqueeze(sampled_batch[1],1).double().to(device)\n",
    "    \n",
    "    classifications = model(cur_images).cpu().detach().numpy()\n",
    "    labels          = cur_labels.cpu().detach().numpy()\n",
    "    \n",
    "    classifications[classifications > .5]  = 1\n",
    "    classifications[classifications <= .5] = 0\n",
    "    \n",
    "    accuracy_val += np.sum(classifications == labels) / len(dataset_validate)\n",
    "    TP_val += sum([(i_pred == 1 and i_tar == 1) for i_pred, i_tar in zip(classifications, labels)])\n",
    "    FP_val += sum([(i_pred == 1 and i_tar == 0) for i_pred, i_tar in zip(classifications, labels)])\n",
    "    TN_val += sum([(i_pred == 0 and i_tar == 0) for i_pred, i_tar in zip(classifications, labels)])\n",
    "    FN_val += sum([(i_pred == 0 and i_tar == 1) for i_pred, i_tar in zip(classifications, labels)])\n",
    "    \n",
    "correct_training = 0\n",
    "for i_batch, sampled_batch in enumerate(dataloader_training):\n",
    "    cur_images = sampled_batch[0].to(device)\n",
    "    cur_labels = torch.unsqueeze(sampled_batch[1],1).double().to(device)\n",
    "    \n",
    "    classifications = model(cur_images).cpu().detach().numpy()\n",
    "    labels          = cur_labels.cpu().detach().numpy()\n",
    "    \n",
    "    classifications[classifications > .5]  = 1\n",
    "    classifications[classifications <= .5] = 0\n",
    "    \n",
    "    accuracy_train += np.sum(classifications == labels) / len(dataset_train)\n",
    "    \n",
    "    TP_train += sum([(i_pred == 1 and i_tar == 1) for i_pred, i_tar in zip(classifications, labels)])\n",
    "    FP_train += sum([(i_pred == 1 and i_tar == 0) for i_pred, i_tar in zip(classifications, labels)])\n",
    "    TN_train += sum([(i_pred == 0 and i_tar == 0) for i_pred, i_tar in zip(classifications, labels)])\n",
    "    FN_train += sum([(i_pred == 0 and i_tar == 1) for i_pred, i_tar in zip(classifications, labels)])"
   ]
  },
  {
   "cell_type": "code",
   "execution_count": 42,
   "id": "9573a3bc",
   "metadata": {},
   "outputs": [
    {
     "name": "stdout",
     "output_type": "stream",
     "text": [
      "Training   Accuracy:    93.24\n",
      "Training   Precision:    90.32\n",
      "Training   Recall:    100.00\n",
      "Training   F1-score:    94.92\n",
      "Validation   Accuracy:    59.26\n",
      "Validation   Precision:    52.17\n",
      "Validation   Recall:    100.00\n",
      "Validation   F1-score:    68.57\n"
     ]
    }
   ],
   "source": [
    "precision_train = TP_train / (TP_train + FP_train)\n",
    "recall_train    = TP_train / (TP_train + FN_train)\n",
    "F1_train = 2 * precision_train * recall_train / (precision_train + recall_train)\n",
    "\n",
    "precision_val = TP_val / (TP_val + FP_val)\n",
    "recall_val    = TP_val / (TP_val + FN_val)\n",
    "F1_val = 2 * precision_val * recall_val / (precision_val + recall_val)\n",
    "\n",
    "print('Training   Accuracy:    %.2f' % (accuracy_train * 100))\n",
    "print('Training   Precision:    %.2f' % (precision_train * 100))\n",
    "print('Training   Recall:    %.2f' % (recall_train * 100))\n",
    "print('Training   F1-score:    %.2f' % (F1_train * 100) )\n",
    "\n",
    "print('Validation   Accuracy:    %.2f' % (accuracy_val * 100))\n",
    "print('Validation   Precision:    %.2f' % (precision_val * 100))\n",
    "print('Validation   Recall:    %.2f' % (recall_val * 100))\n",
    "print('Validation   F1-score:    %.2f' % (F1_val * 100) )\n",
    "\n",
    "# print(TP_train, FP_train, TN_train, FN_train)\n",
    "# print(TP_val, FP_val, TN_val, FN_val)"
   ]
  },
  {
   "cell_type": "code",
   "execution_count": 43,
   "id": "14302254",
   "metadata": {},
   "outputs": [
    {
     "data": {
      "text/plain": [
       "' Below list result of 4 epochs\\nTraining   Accuracy:    91.89\\nTraining   Precision:    88.61\\nTraining   Recall:    100.00\\nTraining   F1-score:    93.96\\nValidation   Accuracy:    59.26\\nValidation   Precision:    52.38\\nValidation   Recall:    91.67\\nValidation   F1-score:    66.67'"
      ]
     },
     "execution_count": 43,
     "metadata": {},
     "output_type": "execute_result"
    }
   ],
   "source": [
    "''' Below list result of 4 epochs\n",
    "Training   Accuracy:    91.89\n",
    "Training   Precision:    88.61\n",
    "Training   Recall:    100.00\n",
    "Training   F1-score:    93.96\n",
    "Validation   Accuracy:    59.26\n",
    "Validation   Precision:    52.38\n",
    "Validation   Recall:    91.67\n",
    "Validation   F1-score:    66.67'''"
   ]
  },
  {
   "cell_type": "code",
   "execution_count": null,
   "id": "19e80202",
   "metadata": {},
   "outputs": [],
   "source": []
  }
 ],
 "metadata": {
  "kernelspec": {
   "display_name": "Python 3 (ipykernel)",
   "language": "python",
   "name": "python3"
  },
  "language_info": {
   "codemirror_mode": {
    "name": "ipython",
    "version": 3
   },
   "file_extension": ".py",
   "mimetype": "text/x-python",
   "name": "python",
   "nbconvert_exporter": "python",
   "pygments_lexer": "ipython3",
   "version": "3.8.0"
  }
 },
 "nbformat": 4,
 "nbformat_minor": 5
}
